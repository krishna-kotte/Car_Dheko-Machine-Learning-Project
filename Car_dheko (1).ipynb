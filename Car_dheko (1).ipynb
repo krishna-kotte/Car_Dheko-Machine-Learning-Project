{
  "nbformat": 4,
  "nbformat_minor": 0,
  "metadata": {
    "colab": {
      "provenance": []
    },
    "kernelspec": {
      "name": "python3",
      "display_name": "Python 3"
    },
    "language_info": {
      "name": "python"
    }
  },
  "cells": [
    {
      "cell_type": "code",
      "source": [
        "import pandas as pd\n",
        "import numpy as np\n",
        "from sklearn.model_selection import train_test_split\n",
        "from sklearn.linear_model import LinearRegression\n",
        "\n",
        "cars_data = pd.read_csv('Cardetails.csv')\n",
        "\n",
        "cars_data.drop(columns=['torque'], inplace=True)\n",
        "cars_data.dropna(inplace=True)\n",
        "cars_data.drop_duplicates(inplace=True)\n",
        "\n",
        "def get_brand_name(car_name):\n",
        "    return car_name.split(' ')[0].strip()\n",
        "\n",
        "def clean_data(value):\n",
        "    value = value.split(' ')[0].strip()\n",
        "    return float(value) if value else 0\n",
        "\n",
        "cars_data['name'] = cars_data['name'].apply(get_brand_name)\n",
        "cars_data['mileage'] = cars_data['mileage'].apply(clean_data)\n",
        "cars_data['max_power'] = cars_data['max_power'].apply(clean_data)\n",
        "cars_data['engine'] = cars_data['engine'].apply(clean_data)\n",
        "\n",
        "cars_data['name'].replace(['Maruti', 'Skoda', 'Honda', 'Hyundai', 'Toyota', 'Ford', 'Renault',\n",
        "                           'Mahindra', 'Tata', 'Chevrolet', 'Datsun', 'Jeep', 'Mercedes-Benz',\n",
        "                           'Mitsubishi', 'Audi', 'Volkswagen', 'BMW', 'Nissan', 'Lexus',\n",
        "                           'Jaguar', 'Land', 'MG', 'Volvo', 'Daewoo', 'Kia', 'Fiat', 'Force',\n",
        "                           'Ambassador', 'Ashok', 'Isuzu', 'Opel'],\n",
        "                          list(range(1, 32)), inplace=True)\n",
        "\n",
        "cars_data['transmission'].replace(['Manual', 'Automatic'], [1, 2], inplace=True)\n",
        "cars_data['seller_type'].replace(['Individual', 'Dealer', 'Trustmark Dealer'], [1, 2, 3], inplace=True)\n",
        "cars_data['fuel'].replace(['Diesel', 'Petrol', 'LPG', 'CNG'], [1, 2, 3, 4], inplace=True)\n",
        "cars_data['owner'].replace(['First Owner', 'Second Owner', 'Third Owner',\n",
        "                            'Fourth & Above Owner', 'Test Drive Car'],\n",
        "                           [1, 2, 3, 4, 5], inplace=True)\n",
        "\n",
        "input_data = cars_data.drop(columns=['selling_price'])\n",
        "output_data = cars_data['selling_price']\n",
        "\n",
        "x_train, x_test, y_train, y_test = train_test_split(input_data, output_data, test_size=0.2)\n",
        "\n",
        "model = LinearRegression()\n",
        "model.fit(x_train, y_train)\n",
        "predict = model.predict(x_test)\n",
        "print(predict)\n",
        "\n",
        "print(x_train.head(1))\n",
        "\n",
        "input_data_model = pd.DataFrame(\n",
        "    [[5, 2022, 12000, 1, 1, 1, 1, 12.99, 2494.0, 100.6, 5.0]],\n",
        "    columns=['name', 'year', 'km_driven', 'fuel', 'seller_type', 'transmission', 'owner', 'mileage', 'engine', 'max_power', 'seats']\n",
        ")\n",
        "\n",
        "car_price = model.predict(input_data_model)\n",
        "print(f\"Predicted car price: {car_price[0]}\")"
      ],
      "metadata": {
        "colab": {
          "base_uri": "https://localhost:8080/"
        },
        "id": "1PZVEshxnK_L",
        "outputId": "707cf20e-acf4-4cfe-ed7c-831e4cc0e15f"
      },
      "execution_count": 34,
      "outputs": [
        {
          "output_type": "stream",
          "name": "stdout",
          "text": [
            "[ -45089.03299391 1032500.50242306  747049.4903118  ...  186162.92062052\n",
            "  162893.87075676  944049.01334696]\n",
            "     name  year  km_driven  fuel  seller_type  transmission  owner  mileage  \\\n",
            "613     1  2017     100000     1            1             1      2    24.52   \n",
            "\n",
            "     engine  max_power  seats  \n",
            "613  1248.0       88.5    7.0  \n",
            "Predicted car price: 1088947.5025094897\n"
          ]
        },
        {
          "output_type": "stream",
          "name": "stderr",
          "text": [
            "<ipython-input-34-898905ceb8b4>:24: FutureWarning: A value is trying to be set on a copy of a DataFrame or Series through chained assignment using an inplace method.\n",
            "The behavior will change in pandas 3.0. This inplace method will never work because the intermediate object on which we are setting values always behaves as a copy.\n",
            "\n",
            "For example, when doing 'df[col].method(value, inplace=True)', try using 'df.method({col: value}, inplace=True)' or df[col] = df[col].method(value) instead, to perform the operation inplace on the original object.\n",
            "\n",
            "\n",
            "  cars_data['name'].replace(['Maruti', 'Skoda', 'Honda', 'Hyundai', 'Toyota', 'Ford', 'Renault',\n",
            "<ipython-input-34-898905ceb8b4>:24: FutureWarning: Downcasting behavior in `replace` is deprecated and will be removed in a future version. To retain the old behavior, explicitly call `result.infer_objects(copy=False)`. To opt-in to the future behavior, set `pd.set_option('future.no_silent_downcasting', True)`\n",
            "  cars_data['name'].replace(['Maruti', 'Skoda', 'Honda', 'Hyundai', 'Toyota', 'Ford', 'Renault',\n",
            "<ipython-input-34-898905ceb8b4>:31: FutureWarning: A value is trying to be set on a copy of a DataFrame or Series through chained assignment using an inplace method.\n",
            "The behavior will change in pandas 3.0. This inplace method will never work because the intermediate object on which we are setting values always behaves as a copy.\n",
            "\n",
            "For example, when doing 'df[col].method(value, inplace=True)', try using 'df.method({col: value}, inplace=True)' or df[col] = df[col].method(value) instead, to perform the operation inplace on the original object.\n",
            "\n",
            "\n",
            "  cars_data['transmission'].replace(['Manual', 'Automatic'], [1, 2], inplace=True)\n",
            "<ipython-input-34-898905ceb8b4>:31: FutureWarning: Downcasting behavior in `replace` is deprecated and will be removed in a future version. To retain the old behavior, explicitly call `result.infer_objects(copy=False)`. To opt-in to the future behavior, set `pd.set_option('future.no_silent_downcasting', True)`\n",
            "  cars_data['transmission'].replace(['Manual', 'Automatic'], [1, 2], inplace=True)\n",
            "<ipython-input-34-898905ceb8b4>:32: FutureWarning: A value is trying to be set on a copy of a DataFrame or Series through chained assignment using an inplace method.\n",
            "The behavior will change in pandas 3.0. This inplace method will never work because the intermediate object on which we are setting values always behaves as a copy.\n",
            "\n",
            "For example, when doing 'df[col].method(value, inplace=True)', try using 'df.method({col: value}, inplace=True)' or df[col] = df[col].method(value) instead, to perform the operation inplace on the original object.\n",
            "\n",
            "\n",
            "  cars_data['seller_type'].replace(['Individual', 'Dealer', 'Trustmark Dealer'], [1, 2, 3], inplace=True)\n",
            "<ipython-input-34-898905ceb8b4>:32: FutureWarning: Downcasting behavior in `replace` is deprecated and will be removed in a future version. To retain the old behavior, explicitly call `result.infer_objects(copy=False)`. To opt-in to the future behavior, set `pd.set_option('future.no_silent_downcasting', True)`\n",
            "  cars_data['seller_type'].replace(['Individual', 'Dealer', 'Trustmark Dealer'], [1, 2, 3], inplace=True)\n",
            "<ipython-input-34-898905ceb8b4>:33: FutureWarning: A value is trying to be set on a copy of a DataFrame or Series through chained assignment using an inplace method.\n",
            "The behavior will change in pandas 3.0. This inplace method will never work because the intermediate object on which we are setting values always behaves as a copy.\n",
            "\n",
            "For example, when doing 'df[col].method(value, inplace=True)', try using 'df.method({col: value}, inplace=True)' or df[col] = df[col].method(value) instead, to perform the operation inplace on the original object.\n",
            "\n",
            "\n",
            "  cars_data['fuel'].replace(['Diesel', 'Petrol', 'LPG', 'CNG'], [1, 2, 3, 4], inplace=True)\n",
            "<ipython-input-34-898905ceb8b4>:33: FutureWarning: Downcasting behavior in `replace` is deprecated and will be removed in a future version. To retain the old behavior, explicitly call `result.infer_objects(copy=False)`. To opt-in to the future behavior, set `pd.set_option('future.no_silent_downcasting', True)`\n",
            "  cars_data['fuel'].replace(['Diesel', 'Petrol', 'LPG', 'CNG'], [1, 2, 3, 4], inplace=True)\n",
            "<ipython-input-34-898905ceb8b4>:34: FutureWarning: A value is trying to be set on a copy of a DataFrame or Series through chained assignment using an inplace method.\n",
            "The behavior will change in pandas 3.0. This inplace method will never work because the intermediate object on which we are setting values always behaves as a copy.\n",
            "\n",
            "For example, when doing 'df[col].method(value, inplace=True)', try using 'df.method({col: value}, inplace=True)' or df[col] = df[col].method(value) instead, to perform the operation inplace on the original object.\n",
            "\n",
            "\n",
            "  cars_data['owner'].replace(['First Owner', 'Second Owner', 'Third Owner',\n",
            "<ipython-input-34-898905ceb8b4>:34: FutureWarning: Downcasting behavior in `replace` is deprecated and will be removed in a future version. To retain the old behavior, explicitly call `result.infer_objects(copy=False)`. To opt-in to the future behavior, set `pd.set_option('future.no_silent_downcasting', True)`\n",
            "  cars_data['owner'].replace(['First Owner', 'Second Owner', 'Third Owner',\n"
          ]
        }
      ]
    }
  ]
}